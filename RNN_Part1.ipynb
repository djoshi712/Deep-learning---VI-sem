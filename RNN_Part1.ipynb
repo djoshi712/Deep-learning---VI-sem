{
  "nbformat": 4,
  "nbformat_minor": 0,
  "metadata": {
    "colab": {
      "provenance": [],
      "gpuType": "T4"
    },
    "kernelspec": {
      "name": "python3",
      "display_name": "Python 3"
    },
    "language_info": {
      "name": "python"
    },
    "accelerator": "GPU"
  },
  "cells": [
    {
      "cell_type": "code",
      "execution_count": null,
      "metadata": {
        "id": "OMCtHdhjGRj0"
      },
      "outputs": [],
      "source": []
    },
    {
      "cell_type": "code",
      "source": [
        "!pip install unidecode"
      ],
      "metadata": {
        "colab": {
          "base_uri": "https://localhost:8080/"
        },
        "id": "l5QXGMyLGDEc",
        "outputId": "c3b88995-d002-44c2-fb4f-4b0d19cab385"
      },
      "execution_count": 3,
      "outputs": [
        {
          "output_type": "stream",
          "name": "stdout",
          "text": [
            "Requirement already satisfied: unidecode in /usr/local/lib/python3.10/dist-packages (1.3.8)\n"
          ]
        }
      ]
    },
    {
      "cell_type": "code",
      "source": [
        "import glob\n",
        "import os\n",
        "import string\n",
        "from unidecode import unidecode"
      ],
      "metadata": {
        "id": "6mSqVD22FkRv"
      },
      "execution_count": 4,
      "outputs": []
    },
    {
      "cell_type": "code",
      "source": [
        "# Define all letters and number of letters\n",
        "# all_letters = string.ascii_letters + string.digits + \" .,;'\"\n",
        "all_letters = string.ascii_letters + \" .,;'\"\n",
        "n_letters = len(all_letters)\n",
        "\n",
        "# Helper function to check for non-ASCII characters\n",
        "def contains_non_ascii(text):\n",
        "    return any(ord(char) > 127 for char in text)\n",
        "\n",
        "def normalize(word):\n",
        "    # Convert to ASCII and remove diacritics using unidecode\n",
        "    ascii_word = unidecode(word)\n",
        "    # Keep only allowed characters (lowercase + specified special characters)\n",
        "    return ''.join(char for char in ascii_word if char in all_letters)\n",
        "\n",
        "# Helper function to find files\n",
        "def findFiles(path):\n",
        "    return glob.glob(path)\n",
        "\n",
        "# Helper function to read data from file\n",
        "def read_data(filename):\n",
        "    all_words = open(filename, encoding='utf-8').read().strip().split('\\n')\n",
        "    # return all_words\n",
        "    return [normalize(word) for word in all_words]"
      ],
      "metadata": {
        "id": "G5Ji46xpFkST"
      },
      "execution_count": 5,
      "outputs": []
    },
    {
      "cell_type": "code",
      "source": [
        "normalize('Ślusàrski')"
      ],
      "metadata": {
        "colab": {
          "base_uri": "https://localhost:8080/",
          "height": 35
        },
        "id": "0AANU0mULyPt",
        "outputId": "317614db-7401-4f5c-fb2d-98b142a9e4c0"
      },
      "execution_count": 6,
      "outputs": [
        {
          "output_type": "execute_result",
          "data": {
            "text/plain": [
              "'Slusarski'"
            ],
            "application/vnd.google.colaboratory.intrinsic+json": {
              "type": "string"
            }
          },
          "metadata": {},
          "execution_count": 6
        }
      ]
    },
    {
      "cell_type": "code",
      "source": [
        "# Path to text files\n",
        "path = '/content/drive/MyDrive/RNN/data/names/'\n",
        "\n",
        "# Initialize dictionaries and lists\n",
        "category_lines = {}\n",
        "all_categories = []\n",
        "\n",
        "# Load data from multiple text files\n",
        "for filename in findFiles(path + '*.txt'):\n",
        "    category = os.path.splitext(os.path.basename(filename))[0]\n",
        "    all_categories.append(category)\n",
        "    lines = read_data(filename)\n",
        "    category_lines[category] = lines\n",
        "\n",
        "# Print number of categories and the categories themselves\n",
        "n_categories = len(all_categories)\n",
        "print(f\"Number of categories: {n_categories}\")\n",
        "print(f\"Categories: {all_categories}\")\n",
        "\n",
        "print(f\"Number of letters: {n_letters}\")\n",
        "for category, lines in category_lines.items():\n",
        "    print(f\"Category: {category}\")\n",
        "    print(lines[:5])\n",
        ""
      ],
      "metadata": {
        "colab": {
          "base_uri": "https://localhost:8080/"
        },
        "id": "LZ1cf0pRF6ss",
        "outputId": "7415022c-c64a-4f32-e6f3-c8db1eebfef0"
      },
      "execution_count": 7,
      "outputs": [
        {
          "output_type": "stream",
          "name": "stdout",
          "text": [
            "Number of categories: 18\n",
            "Categories: ['Greek', 'German', 'Korean', 'Dutch', 'Polish', 'Japanese', 'Russian', 'Irish', 'Scottish', 'Arabic', 'Czech', 'Chinese', 'French', 'Spanish', 'Portuguese', 'Italian', 'English', 'Vietnamese']\n",
            "Number of letters: 57\n",
            "Category: Greek\n",
            "['Adamidis', 'Adamou', 'Agelakos', 'Akrivopoulos', 'Alexandropoulos']\n",
            "Category: German\n",
            "['Abbing', 'Abel', 'Abeln', 'Abt', 'Achilles']\n",
            "Category: Korean\n",
            "['Ahn', 'Baik', 'Bang', 'Byon', 'Cha']\n",
            "Category: Dutch\n",
            "['Aalsburg', 'Aalst', 'Aarle', 'Achteren', 'Achthoven']\n",
            "Category: Polish\n",
            "['Adamczak', 'Adamczyk', 'Andrysiak', 'Auttenberg', 'Bartosz']\n",
            "Category: Japanese\n",
            "['Abe', 'Abukara', 'Adachi', 'Aida', 'Aihara']\n",
            "Category: Russian\n",
            "['Ababko', 'Abaev', 'Abagyan', 'Abaidulin', 'Abaidullin']\n",
            "Category: Irish\n",
            "['Adam', 'Ahearn', 'Aodh', 'Aodha', 'Aonghuis']\n",
            "Category: Scottish\n",
            "['Smith', 'Brown', 'Wilson', 'Campbell', 'Stewart']\n",
            "Category: Arabic\n",
            "['Khoury', 'Nahas', 'Daher', 'Gerges', 'Nazari']\n",
            "Category: Czech\n",
            "['Abl', 'Adsit', 'Ajdrna', 'Alt', 'Antonowitsch']\n",
            "Category: Chinese\n",
            "['Ang', 'AuYong', 'Bai', 'Ban', 'Bao']\n",
            "Category: French\n",
            "['Abel', 'Abraham', 'Adam', 'Albert', 'Allard']\n",
            "Category: Spanish\n",
            "['Abana', 'Abano', 'Abarca', 'Abaroa', 'Abascal']\n",
            "Category: Portuguese\n",
            "['Abreu', 'Albuquerque', 'Almeida', 'Alves', 'Araujo']\n",
            "Category: Italian\n",
            "['Abandonato', 'Abatangelo', 'Abatantuono', 'Abate', 'Abategiovanni']\n",
            "Category: English\n",
            "['Abbas', 'Abbey', 'Abbott', 'Abdi', 'Abel']\n",
            "Category: Vietnamese\n",
            "['Nguyen', 'Tron', 'Le', 'Pham', 'Huynh']\n"
          ]
        }
      ]
    },
    {
      "cell_type": "code",
      "source": [
        "# Check for non-ASCII characters\n",
        "for category, lines in category_lines.items():\n",
        "    for word in lines:\n",
        "        if contains_non_ascii(word):\n",
        "            print(f\"Non-ASCII characters found in word: {word}\")\n",
        "\n"
      ],
      "metadata": {
        "id": "dz5DJmT8FkTw"
      },
      "execution_count": 8,
      "outputs": []
    },
    {
      "cell_type": "code",
      "source": [
        "print(n_letters)"
      ],
      "metadata": {
        "colab": {
          "base_uri": "https://localhost:8080/"
        },
        "id": "8an-U1lmL40P",
        "outputId": "2aeb348d-3f7b-4b5b-d281-9860b6c981d3"
      },
      "execution_count": 9,
      "outputs": [
        {
          "output_type": "stream",
          "name": "stdout",
          "text": [
            "57\n"
          ]
        }
      ]
    },
    {
      "cell_type": "markdown",
      "source": [
        "# Prepare Dataset for Training\n",
        "\n",
        "To represent a single letter, we use a “one-hot vector” of size <1 x n_letters>. A one-hot vector is filled with 0s except for a 1 at index of the current letter, e.g. \"b\" = <0 1 0 0 0 ...>.\n",
        "\n",
        "To make a word we join a bunch of those into a 2D matrix <line_length x 1 x n_letters>.\n",
        "\n",
        "That extra 1 dimension is because PyTorch assumes everything is in batches - we’re just using a batch size of 1 here."
      ],
      "metadata": {
        "id": "zhFwOTcEIgiz"
      }
    },
    {
      "cell_type": "code",
      "source": [
        "import torch"
      ],
      "metadata": {
        "id": "XnsRuUfjJA48"
      },
      "execution_count": 10,
      "outputs": []
    },
    {
      "cell_type": "code",
      "source": [
        "# Helper function to convert characters to indices\n",
        "def charToIndex(char):\n",
        "    return all_letters.find(char)\n",
        "\n",
        "# Helper function to convert word to tensor (with padding)\n",
        "def wordToTensor(word):\n",
        "    tensor = torch.zeros(len(word), 1, n_letters)\n",
        "    for i, char in enumerate(word):\n",
        "        tensor[i][0][charToIndex(char)] = 1\n",
        "\n",
        "    return tensor"
      ],
      "metadata": {
        "id": "O8eSeDYOFkV0"
      },
      "execution_count": 11,
      "outputs": []
    },
    {
      "cell_type": "code",
      "source": [
        "print(wordToTensor('adam').size())\n",
        "print(wordToTensor('adam'))"
      ],
      "metadata": {
        "colab": {
          "base_uri": "https://localhost:8080/"
        },
        "id": "mMRUXhivFkX2",
        "outputId": "ffae44e2-9103-4ba9-a394-3bc4aec38239"
      },
      "execution_count": 12,
      "outputs": [
        {
          "output_type": "stream",
          "name": "stdout",
          "text": [
            "torch.Size([4, 1, 57])\n",
            "tensor([[[1., 0., 0., 0., 0., 0., 0., 0., 0., 0., 0., 0., 0., 0., 0., 0., 0.,\n",
            "          0., 0., 0., 0., 0., 0., 0., 0., 0., 0., 0., 0., 0., 0., 0., 0., 0.,\n",
            "          0., 0., 0., 0., 0., 0., 0., 0., 0., 0., 0., 0., 0., 0., 0., 0., 0.,\n",
            "          0., 0., 0., 0., 0., 0.]],\n",
            "\n",
            "        [[0., 0., 0., 1., 0., 0., 0., 0., 0., 0., 0., 0., 0., 0., 0., 0., 0.,\n",
            "          0., 0., 0., 0., 0., 0., 0., 0., 0., 0., 0., 0., 0., 0., 0., 0., 0.,\n",
            "          0., 0., 0., 0., 0., 0., 0., 0., 0., 0., 0., 0., 0., 0., 0., 0., 0.,\n",
            "          0., 0., 0., 0., 0., 0.]],\n",
            "\n",
            "        [[1., 0., 0., 0., 0., 0., 0., 0., 0., 0., 0., 0., 0., 0., 0., 0., 0.,\n",
            "          0., 0., 0., 0., 0., 0., 0., 0., 0., 0., 0., 0., 0., 0., 0., 0., 0.,\n",
            "          0., 0., 0., 0., 0., 0., 0., 0., 0., 0., 0., 0., 0., 0., 0., 0., 0.,\n",
            "          0., 0., 0., 0., 0., 0.]],\n",
            "\n",
            "        [[0., 0., 0., 0., 0., 0., 0., 0., 0., 0., 0., 0., 1., 0., 0., 0., 0.,\n",
            "          0., 0., 0., 0., 0., 0., 0., 0., 0., 0., 0., 0., 0., 0., 0., 0., 0.,\n",
            "          0., 0., 0., 0., 0., 0., 0., 0., 0., 0., 0., 0., 0., 0., 0., 0., 0.,\n",
            "          0., 0., 0., 0., 0., 0.]]])\n"
          ]
        }
      ]
    },
    {
      "cell_type": "code",
      "source": [
        "print(wordToTensor('abategiovanni'))"
      ],
      "metadata": {
        "colab": {
          "base_uri": "https://localhost:8080/"
        },
        "id": "pMQpXjF2FkZ8",
        "outputId": "3409813e-c4ef-4f28-b2e3-a8bb419aaed4"
      },
      "execution_count": 13,
      "outputs": [
        {
          "output_type": "stream",
          "name": "stdout",
          "text": [
            "tensor([[[1., 0., 0., 0., 0., 0., 0., 0., 0., 0., 0., 0., 0., 0., 0., 0., 0.,\n",
            "          0., 0., 0., 0., 0., 0., 0., 0., 0., 0., 0., 0., 0., 0., 0., 0., 0.,\n",
            "          0., 0., 0., 0., 0., 0., 0., 0., 0., 0., 0., 0., 0., 0., 0., 0., 0.,\n",
            "          0., 0., 0., 0., 0., 0.]],\n",
            "\n",
            "        [[0., 1., 0., 0., 0., 0., 0., 0., 0., 0., 0., 0., 0., 0., 0., 0., 0.,\n",
            "          0., 0., 0., 0., 0., 0., 0., 0., 0., 0., 0., 0., 0., 0., 0., 0., 0.,\n",
            "          0., 0., 0., 0., 0., 0., 0., 0., 0., 0., 0., 0., 0., 0., 0., 0., 0.,\n",
            "          0., 0., 0., 0., 0., 0.]],\n",
            "\n",
            "        [[1., 0., 0., 0., 0., 0., 0., 0., 0., 0., 0., 0., 0., 0., 0., 0., 0.,\n",
            "          0., 0., 0., 0., 0., 0., 0., 0., 0., 0., 0., 0., 0., 0., 0., 0., 0.,\n",
            "          0., 0., 0., 0., 0., 0., 0., 0., 0., 0., 0., 0., 0., 0., 0., 0., 0.,\n",
            "          0., 0., 0., 0., 0., 0.]],\n",
            "\n",
            "        [[0., 0., 0., 0., 0., 0., 0., 0., 0., 0., 0., 0., 0., 0., 0., 0., 0.,\n",
            "          0., 0., 1., 0., 0., 0., 0., 0., 0., 0., 0., 0., 0., 0., 0., 0., 0.,\n",
            "          0., 0., 0., 0., 0., 0., 0., 0., 0., 0., 0., 0., 0., 0., 0., 0., 0.,\n",
            "          0., 0., 0., 0., 0., 0.]],\n",
            "\n",
            "        [[0., 0., 0., 0., 1., 0., 0., 0., 0., 0., 0., 0., 0., 0., 0., 0., 0.,\n",
            "          0., 0., 0., 0., 0., 0., 0., 0., 0., 0., 0., 0., 0., 0., 0., 0., 0.,\n",
            "          0., 0., 0., 0., 0., 0., 0., 0., 0., 0., 0., 0., 0., 0., 0., 0., 0.,\n",
            "          0., 0., 0., 0., 0., 0.]],\n",
            "\n",
            "        [[0., 0., 0., 0., 0., 0., 1., 0., 0., 0., 0., 0., 0., 0., 0., 0., 0.,\n",
            "          0., 0., 0., 0., 0., 0., 0., 0., 0., 0., 0., 0., 0., 0., 0., 0., 0.,\n",
            "          0., 0., 0., 0., 0., 0., 0., 0., 0., 0., 0., 0., 0., 0., 0., 0., 0.,\n",
            "          0., 0., 0., 0., 0., 0.]],\n",
            "\n",
            "        [[0., 0., 0., 0., 0., 0., 0., 0., 1., 0., 0., 0., 0., 0., 0., 0., 0.,\n",
            "          0., 0., 0., 0., 0., 0., 0., 0., 0., 0., 0., 0., 0., 0., 0., 0., 0.,\n",
            "          0., 0., 0., 0., 0., 0., 0., 0., 0., 0., 0., 0., 0., 0., 0., 0., 0.,\n",
            "          0., 0., 0., 0., 0., 0.]],\n",
            "\n",
            "        [[0., 0., 0., 0., 0., 0., 0., 0., 0., 0., 0., 0., 0., 0., 1., 0., 0.,\n",
            "          0., 0., 0., 0., 0., 0., 0., 0., 0., 0., 0., 0., 0., 0., 0., 0., 0.,\n",
            "          0., 0., 0., 0., 0., 0., 0., 0., 0., 0., 0., 0., 0., 0., 0., 0., 0.,\n",
            "          0., 0., 0., 0., 0., 0.]],\n",
            "\n",
            "        [[0., 0., 0., 0., 0., 0., 0., 0., 0., 0., 0., 0., 0., 0., 0., 0., 0.,\n",
            "          0., 0., 0., 0., 1., 0., 0., 0., 0., 0., 0., 0., 0., 0., 0., 0., 0.,\n",
            "          0., 0., 0., 0., 0., 0., 0., 0., 0., 0., 0., 0., 0., 0., 0., 0., 0.,\n",
            "          0., 0., 0., 0., 0., 0.]],\n",
            "\n",
            "        [[1., 0., 0., 0., 0., 0., 0., 0., 0., 0., 0., 0., 0., 0., 0., 0., 0.,\n",
            "          0., 0., 0., 0., 0., 0., 0., 0., 0., 0., 0., 0., 0., 0., 0., 0., 0.,\n",
            "          0., 0., 0., 0., 0., 0., 0., 0., 0., 0., 0., 0., 0., 0., 0., 0., 0.,\n",
            "          0., 0., 0., 0., 0., 0.]],\n",
            "\n",
            "        [[0., 0., 0., 0., 0., 0., 0., 0., 0., 0., 0., 0., 0., 1., 0., 0., 0.,\n",
            "          0., 0., 0., 0., 0., 0., 0., 0., 0., 0., 0., 0., 0., 0., 0., 0., 0.,\n",
            "          0., 0., 0., 0., 0., 0., 0., 0., 0., 0., 0., 0., 0., 0., 0., 0., 0.,\n",
            "          0., 0., 0., 0., 0., 0.]],\n",
            "\n",
            "        [[0., 0., 0., 0., 0., 0., 0., 0., 0., 0., 0., 0., 0., 1., 0., 0., 0.,\n",
            "          0., 0., 0., 0., 0., 0., 0., 0., 0., 0., 0., 0., 0., 0., 0., 0., 0.,\n",
            "          0., 0., 0., 0., 0., 0., 0., 0., 0., 0., 0., 0., 0., 0., 0., 0., 0.,\n",
            "          0., 0., 0., 0., 0., 0.]],\n",
            "\n",
            "        [[0., 0., 0., 0., 0., 0., 0., 0., 1., 0., 0., 0., 0., 0., 0., 0., 0.,\n",
            "          0., 0., 0., 0., 0., 0., 0., 0., 0., 0., 0., 0., 0., 0., 0., 0., 0.,\n",
            "          0., 0., 0., 0., 0., 0., 0., 0., 0., 0., 0., 0., 0., 0., 0., 0., 0.,\n",
            "          0., 0., 0., 0., 0., 0.]]])\n"
          ]
        }
      ]
    },
    {
      "cell_type": "markdown",
      "source": [
        "# Creating the Network\n",
        "\n",
        "This RNN module implements a “vanilla RNN” an is just 3 linear layers which operate on an input and hidden state, with a LogSoftmax layer after the output."
      ],
      "metadata": {
        "id": "rSpkzktoK7zY"
      }
    },
    {
      "cell_type": "code",
      "source": [
        "n_hidden = 128\n",
        "import torch.nn as nn\n",
        "import torch.nn.functional as F"
      ],
      "metadata": {
        "id": "13mXMhR1MFC2"
      },
      "execution_count": 14,
      "outputs": []
    },
    {
      "cell_type": "code",
      "source": [
        "class RNN(nn.Module):\n",
        "    def __init__(self, input_size, hidden_size, output_size):\n",
        "        super(RNN, self).__init__()\n",
        "\n",
        "        self.hidden_size = hidden_size\n",
        "\n",
        "        self.i2h = nn.Linear(input_size, hidden_size)\n",
        "        self.h2h = nn.Linear(hidden_size, hidden_size)\n",
        "        self.h2o = nn.Linear(hidden_size, output_size)\n",
        "        self.softmax = nn.LogSoftmax(dim=1)\n",
        "\n",
        "    def forward(self, input, hidden):\n",
        "        hidden = F.tanh(self.i2h(input) + self.h2h(hidden))\n",
        "        output = self.h2o(hidden)\n",
        "        output = self.softmax(output)\n",
        "        return output, hidden\n",
        "\n",
        "    def initHidden(self):\n",
        "        return torch.zeros(1, self.hidden_size)"
      ],
      "metadata": {
        "id": "FKrS5jYXFkbz"
      },
      "execution_count": 15,
      "outputs": []
    },
    {
      "cell_type": "markdown",
      "source": [
        "To run a step of this network we need to pass an input (in our case, the Tensor for the current letter) and a previous hidden state (which we initialize as zeros at first). We’ll get back the output (probability of each language) and a next hidden state (which we keep for the next step)."
      ],
      "metadata": {
        "id": "TgsQWuFXMM3t"
      }
    },
    {
      "cell_type": "code",
      "source": [
        "rnn = RNN(n_letters, n_hidden, n_categories)\n",
        "# calling forward function\n",
        "input = wordToTensor('Albert')\n",
        "hidden = torch.zeros(1, n_hidden)\n",
        "# print(input.ndim)\n",
        "# print(hidden.ndim)\n",
        "print(hidden)"
      ],
      "metadata": {
        "colab": {
          "base_uri": "https://localhost:8080/"
        },
        "id": "Xj_flaOqFkdr",
        "outputId": "d779940a-3bea-4a49-e431-07a2e56a154d"
      },
      "execution_count": 16,
      "outputs": [
        {
          "output_type": "stream",
          "name": "stdout",
          "text": [
            "tensor([[0., 0., 0., 0., 0., 0., 0., 0., 0., 0., 0., 0., 0., 0., 0., 0., 0., 0., 0., 0., 0., 0., 0., 0.,\n",
            "         0., 0., 0., 0., 0., 0., 0., 0., 0., 0., 0., 0., 0., 0., 0., 0., 0., 0., 0., 0., 0., 0., 0., 0.,\n",
            "         0., 0., 0., 0., 0., 0., 0., 0., 0., 0., 0., 0., 0., 0., 0., 0., 0., 0., 0., 0., 0., 0., 0., 0.,\n",
            "         0., 0., 0., 0., 0., 0., 0., 0., 0., 0., 0., 0., 0., 0., 0., 0., 0., 0., 0., 0., 0., 0., 0., 0.,\n",
            "         0., 0., 0., 0., 0., 0., 0., 0., 0., 0., 0., 0., 0., 0., 0., 0., 0., 0., 0., 0., 0., 0., 0., 0.,\n",
            "         0., 0., 0., 0., 0., 0., 0., 0.]])\n"
          ]
        }
      ]
    },
    {
      "cell_type": "code",
      "source": [
        "input"
      ],
      "metadata": {
        "colab": {
          "base_uri": "https://localhost:8080/"
        },
        "id": "m_40xretPYvk",
        "outputId": "28931c43-a8fb-46f5-9084-a7f43dcb6587"
      },
      "execution_count": 17,
      "outputs": [
        {
          "output_type": "execute_result",
          "data": {
            "text/plain": [
              "tensor([[[0., 0., 0., 0., 0., 0., 0., 0., 0., 0., 0., 0., 0., 0., 0., 0., 0.,\n",
              "          0., 0., 0., 0., 0., 0., 0., 0., 0., 1., 0., 0., 0., 0., 0., 0., 0.,\n",
              "          0., 0., 0., 0., 0., 0., 0., 0., 0., 0., 0., 0., 0., 0., 0., 0., 0.,\n",
              "          0., 0., 0., 0., 0., 0.]],\n",
              "\n",
              "        [[0., 0., 0., 0., 0., 0., 0., 0., 0., 0., 0., 1., 0., 0., 0., 0., 0.,\n",
              "          0., 0., 0., 0., 0., 0., 0., 0., 0., 0., 0., 0., 0., 0., 0., 0., 0.,\n",
              "          0., 0., 0., 0., 0., 0., 0., 0., 0., 0., 0., 0., 0., 0., 0., 0., 0.,\n",
              "          0., 0., 0., 0., 0., 0.]],\n",
              "\n",
              "        [[0., 1., 0., 0., 0., 0., 0., 0., 0., 0., 0., 0., 0., 0., 0., 0., 0.,\n",
              "          0., 0., 0., 0., 0., 0., 0., 0., 0., 0., 0., 0., 0., 0., 0., 0., 0.,\n",
              "          0., 0., 0., 0., 0., 0., 0., 0., 0., 0., 0., 0., 0., 0., 0., 0., 0.,\n",
              "          0., 0., 0., 0., 0., 0.]],\n",
              "\n",
              "        [[0., 0., 0., 0., 1., 0., 0., 0., 0., 0., 0., 0., 0., 0., 0., 0., 0.,\n",
              "          0., 0., 0., 0., 0., 0., 0., 0., 0., 0., 0., 0., 0., 0., 0., 0., 0.,\n",
              "          0., 0., 0., 0., 0., 0., 0., 0., 0., 0., 0., 0., 0., 0., 0., 0., 0.,\n",
              "          0., 0., 0., 0., 0., 0.]],\n",
              "\n",
              "        [[0., 0., 0., 0., 0., 0., 0., 0., 0., 0., 0., 0., 0., 0., 0., 0., 0.,\n",
              "          1., 0., 0., 0., 0., 0., 0., 0., 0., 0., 0., 0., 0., 0., 0., 0., 0.,\n",
              "          0., 0., 0., 0., 0., 0., 0., 0., 0., 0., 0., 0., 0., 0., 0., 0., 0.,\n",
              "          0., 0., 0., 0., 0., 0.]],\n",
              "\n",
              "        [[0., 0., 0., 0., 0., 0., 0., 0., 0., 0., 0., 0., 0., 0., 0., 0., 0.,\n",
              "          0., 0., 1., 0., 0., 0., 0., 0., 0., 0., 0., 0., 0., 0., 0., 0., 0.,\n",
              "          0., 0., 0., 0., 0., 0., 0., 0., 0., 0., 0., 0., 0., 0., 0., 0., 0.,\n",
              "          0., 0., 0., 0., 0., 0.]]])"
            ]
          },
          "metadata": {},
          "execution_count": 17
        }
      ]
    },
    {
      "cell_type": "code",
      "source": [
        "# assume hidden is the previous hidden state (init with zeros)\n",
        "output, next_hidden = rnn(input[0], hidden)\n",
        "#  output is a <1 x n_categories> Tensor, where every item is the likelihood of that category (higher is more likely).\n",
        "print(output)"
      ],
      "metadata": {
        "colab": {
          "base_uri": "https://localhost:8080/"
        },
        "id": "U8IL81DbN2N-",
        "outputId": "7b54536e-284b-42c9-ac41-45cbd2c08291"
      },
      "execution_count": 18,
      "outputs": [
        {
          "output_type": "stream",
          "name": "stdout",
          "text": [
            "tensor([[-2.9059, -3.0441, -2.9503, -2.8512, -2.9800, -2.8965, -2.7559, -2.9523,\n",
            "         -2.8359, -2.7669, -2.8258, -2.9878, -2.9467, -2.8597, -2.8368, -2.8060,\n",
            "         -3.0086, -2.8757]], grad_fn=<LogSoftmaxBackward0>)\n"
          ]
        }
      ]
    },
    {
      "cell_type": "markdown",
      "source": [
        "# Training\n",
        "Before going into training we should make a few helper functions. The first is to interpret the output of the network, which we know to be a likelihood of each category. We can use Tensor.topk to get the index of the greatest value:"
      ],
      "metadata": {
        "id": "_2de0DUjPomp"
      }
    },
    {
      "cell_type": "code",
      "source": [
        "def categoryFromOutput(output):\n",
        "    top_n, top_i = output.topk(1)\n",
        "    category_i = top_i[0].item()\n",
        "    return all_categories[category_i], category_i\n",
        "\n",
        "print(categoryFromOutput(output))"
      ],
      "metadata": {
        "colab": {
          "base_uri": "https://localhost:8080/"
        },
        "id": "xQiz_ZqdPdJr",
        "outputId": "53442179-663d-4e98-99df-06757eeeea79"
      },
      "execution_count": 19,
      "outputs": [
        {
          "output_type": "stream",
          "name": "stdout",
          "text": [
            "('Russian', 6)\n"
          ]
        }
      ]
    },
    {
      "cell_type": "code",
      "source": [
        "# Generate 'n' random training examples\n",
        "import random\n",
        "\n",
        "def randomChoice(l):\n",
        "    return l[random.randint(0, len(l) - 1)]\n",
        "\n",
        "def randomTrainingExample():\n",
        "    category = randomChoice(all_categories)\n",
        "    word = randomChoice(category_lines[category])\n",
        "    category_tensor = torch.tensor([all_categories.index(category)], dtype=torch.long)\n",
        "    word_tensor = wordToTensor(word)\n",
        "    return category, word, category_tensor, word_tensor\n",
        "\n",
        "for i in range(10):\n",
        "    category, word, category_tensor, word_tensor = randomTrainingExample()\n",
        "    print(f\"{category} -> {word}\")"
      ],
      "metadata": {
        "colab": {
          "base_uri": "https://localhost:8080/"
        },
        "id": "tE4fmurQPvmV",
        "outputId": "eb2e34e5-8d7b-4f2c-c74e-2b19b9e47aee"
      },
      "execution_count": 20,
      "outputs": [
        {
          "output_type": "stream",
          "name": "stdout",
          "text": [
            "Czech -> Blecha\n",
            "German -> Andres\n",
            "Czech -> Tykal\n",
            "Irish -> Ivor\n",
            "German -> Schuchert\n",
            "Korean -> Choi\n",
            "English -> Williams\n",
            "Spanish -> Rios\n",
            "Dutch -> Kool\n",
            "Korean -> Choi\n"
          ]
        }
      ]
    },
    {
      "cell_type": "markdown",
      "source": [
        "# Training the Network\n",
        "Train this network by showing it a bunch of examples, have it make guesses, and tell it if it’s wrong.\n",
        "\n",
        "For the loss function nn.NLLLoss is appropriate, since the last layer of the RNN is nn.LogSoftmax.\n",
        "\n"
      ],
      "metadata": {
        "id": "RqgMszmARbrt"
      }
    },
    {
      "cell_type": "code",
      "source": [
        "criterion = nn.NLLLoss()\n"
      ],
      "metadata": {
        "id": "hkFKgIIVREeO"
      },
      "execution_count": 21,
      "outputs": []
    },
    {
      "cell_type": "code",
      "source": [
        "learning_rate = 0.005\n",
        "\n",
        "def train(category_tensor, word_tensor):\n",
        "    hidden = rnn.initHidden()\n",
        "\n",
        "    rnn.zero_grad()\n",
        "#    word= 'Adam'\n",
        "#    word_tensor.size() = torch.Size([4, 1, 57])\n",
        "    for i in range(word_tensor.size()[0]):\n",
        "        output, hidden = rnn(word_tensor[i], hidden)\n",
        "\n",
        "    loss = criterion(output, category_tensor)\n",
        "    loss.backward()\n",
        "\n",
        "    # Add parameters' gradients to their values, multiplied by learning rate\n",
        "    for p in rnn.parameters():\n",
        "        p.data.add_(p.grad.data, alpha=-learning_rate)\n",
        "\n",
        "    return output, loss.item()"
      ],
      "metadata": {
        "id": "rA06F-RHRmhq"
      },
      "execution_count": 22,
      "outputs": []
    },
    {
      "cell_type": "code",
      "source": [
        "import time\n",
        "import math\n",
        "\n",
        "n_iters = 100000\n",
        "print_every = 5000\n",
        "plot_every = 1000\n",
        "\n",
        "# Keep track of losses and accuracy for plotting\n",
        "current_loss = 0\n",
        "all_losses = []\n",
        "correct_predictions = 0\n",
        "total_predictions = 0\n",
        "\n",
        "def timeSince(since):\n",
        "    now = time.time()\n",
        "    s = now - since\n",
        "    m = math.floor(s / 60)\n",
        "    s -= m * 60\n",
        "    return '%dm %ds' % (m, s)\n",
        "\n",
        "start = time.time()\n",
        "\n",
        "for iter in range(1, n_iters + 1):\n",
        "    category, word, category_tensor, word_tensor = randomTrainingExample()\n",
        "    output, loss = train(category_tensor, word_tensor)\n",
        "    current_loss += loss\n",
        "\n",
        "    # Compute the guess and update counters\n",
        "    guess, guess_i = categoryFromOutput(output)\n",
        "    correct = '✓' if guess == category else '✗ (%s)' % category\n",
        "    if guess == category:\n",
        "        correct_predictions += 1\n",
        "    total_predictions += 1\n",
        "\n",
        "    # Print ``iter`` number, loss, name, guess, and accuracy\n",
        "    if iter % print_every == 0:\n",
        "        accuracy = (correct_predictions / total_predictions) * 100\n",
        "        print('%d %d%% (%s) %.4f %s / %s %s | Accuracy: %.2f%%' % (\n",
        "            iter, iter / n_iters * 100, timeSince(start), loss, word, guess, correct, accuracy))\n",
        "\n",
        "    # Add current loss avg to list of losses\n",
        "    if iter % plot_every == 0:\n",
        "        all_losses.append(current_loss / plot_every)\n",
        "        current_loss = 0\n",
        "        # Reset counters for the next plot interval\n",
        "        correct_predictions = 0\n",
        "        total_predictions = 0\n"
      ],
      "metadata": {
        "colab": {
          "base_uri": "https://localhost:8080/"
        },
        "id": "bQ01w0ARR17k",
        "outputId": "c38cf9f5-eb35-423a-a8f0-2c5170e4a301"
      },
      "execution_count": 27,
      "outputs": [
        {
          "output_type": "stream",
          "name": "stdout",
          "text": [
            "5000 5% (0m 10s) 2.0773 Albert / Dutch ✗ (German) | Accuracy: 55.10%\n",
            "10000 10% (0m 20s) 5.9012 Fabian / Irish ✗ (Polish) | Accuracy: 57.20%\n",
            "15000 15% (0m 30s) 0.9172 Lam / Chinese ✗ (Vietnamese) | Accuracy: 58.70%\n",
            "20000 20% (0m 41s) 1.1301 Gillett / English ✓ | Accuracy: 56.30%\n",
            "25000 25% (0m 52s) 0.0097 Zdunowski / Polish ✓ | Accuracy: 60.70%\n",
            "30000 30% (1m 1s) 0.1339 Lac / Vietnamese ✓ | Accuracy: 64.10%\n",
            "35000 35% (1m 12s) 0.1341 Morrison / Scottish ✓ | Accuracy: 62.70%\n",
            "40000 40% (1m 22s) 0.7224 Kiely / English ✓ | Accuracy: 63.70%\n",
            "45000 45% (1m 33s) 1.0703 Guirguis / Arabic ✓ | Accuracy: 69.00%\n",
            "50000 50% (1m 43s) 0.2610 Reynders / Dutch ✓ | Accuracy: 65.10%\n",
            "55000 55% (1m 53s) 1.3943 Suess / Dutch ✗ (German) | Accuracy: 65.50%\n",
            "60000 60% (2m 3s) 0.0282 Costantini / Italian ✓ | Accuracy: 71.50%\n",
            "65000 65% (2m 14s) 0.1414 Henderson / Scottish ✓ | Accuracy: 71.80%\n",
            "70000 70% (2m 24s) 0.5297 Luc / Vietnamese ✓ | Accuracy: 71.20%\n",
            "75000 75% (2m 35s) 0.2270 Ikina / Japanese ✓ | Accuracy: 68.80%\n",
            "80000 80% (2m 46s) 0.4123 Senyakovich / Russian ✓ | Accuracy: 75.70%\n",
            "85000 85% (2m 57s) 0.1151 Matsuoka / Japanese ✓ | Accuracy: 72.50%\n",
            "90000 90% (3m 7s) 1.4339 Grogan / Scottish ✗ (English) | Accuracy: 73.30%\n",
            "95000 95% (3m 16s) 0.5889 Sutherland / Scottish ✓ | Accuracy: 73.20%\n",
            "100000 100% (3m 27s) 0.5161 Guerra / Portuguese ✓ | Accuracy: 75.20%\n"
          ]
        }
      ]
    },
    {
      "cell_type": "markdown",
      "source": [
        "# Plotting the Results\n"
      ],
      "metadata": {
        "id": "rvnJsjZZ14Qe"
      }
    },
    {
      "cell_type": "code",
      "source": [
        "import matplotlib.pyplot as plt\n",
        "import matplotlib.ticker as ticker\n",
        "\n",
        "plt.figure()\n",
        "plt.plot(all_losses)"
      ],
      "metadata": {
        "colab": {
          "base_uri": "https://localhost:8080/",
          "height": 447
        },
        "id": "9QIZ-q8v1676",
        "outputId": "2ef791b7-7052-4330-c217-a8f658b63ad1"
      },
      "execution_count": 28,
      "outputs": [
        {
          "output_type": "execute_result",
          "data": {
            "text/plain": [
              "[<matplotlib.lines.Line2D at 0x7cbb5fbacaf0>]"
            ]
          },
          "metadata": {},
          "execution_count": 28
        },
        {
          "output_type": "display_data",
          "data": {
            "text/plain": [
              "<Figure size 640x480 with 1 Axes>"
            ],
            "image/png": "[encoded data removed]"
          },
          "metadata": {}
        }
      ]
    },
    {
      "cell_type": "markdown",
      "source": [
        "To calculate the confusion matrix a bunch of samples are run through the network with evaluate(), which is the same as train() minus the backprop."
      ],
      "metadata": {
        "id": "4cCqiGB_2CFs"
      }
    },
    {
      "cell_type": "code",
      "source": [
        "# Keep track of correct guesses in a confusion matrix\n",
        "confusion = torch.zeros(n_categories, n_categories)\n",
        "n_confusion = 10000\n",
        "\n",
        "# Just return an output given a line\n",
        "def evaluate(word_tensor):\n",
        "    hidden = rnn.initHidden()\n",
        "\n",
        "    for i in range(word_tensor.size()[0]):\n",
        "        output, hidden = rnn(word_tensor[i], hidden)\n",
        "\n",
        "    return output\n",
        "\n",
        "# Go through a bunch of examples and record which are correctly guessed\n",
        "for i in range(n_confusion):\n",
        "    category, word, category_tensor, word_tensor = randomTrainingExample()\n",
        "    output = evaluate(word_tensor)\n",
        "    guess, guess_i = categoryFromOutput(output)\n",
        "    category_i = all_categories.index(category)\n",
        "    confusion[category_i][guess_i] += 1\n",
        "\n",
        "# Normalize by dividing every row by its sum\n",
        "for i in range(n_categories):\n",
        "    confusion[i] = confusion[i] / confusion[i].sum()\n",
        "\n",
        "# Set up plot\n",
        "fig = plt.figure()\n",
        "ax = fig.add_subplot(111)\n",
        "cax = ax.matshow(confusion.numpy())\n",
        "fig.colorbar(cax)\n",
        "\n",
        "# Set up axes\n",
        "ax.set_xticklabels([''] + all_categories, rotation=90)\n",
        "ax.set_yticklabels([''] + all_categories)\n",
        "\n",
        "# Force label at every tick\n",
        "ax.xaxis.set_major_locator(ticker.MultipleLocator(1))\n",
        "ax.yaxis.set_major_locator(ticker.MultipleLocator(1))\n",
        "\n",
        "# sphinx_gallery_thumbnail_number = 2\n",
        "plt.show()"
      ],
      "metadata": {
        "colab": {
          "base_uri": "https://localhost:8080/",
          "height": 575
        },
        "id": "nWJ_5qVB18pn",
        "outputId": "c244b2a7-60a5-4124-ea44-8815f2dcdbb3"
      },
      "execution_count": 29,
      "outputs": [
        {
          "output_type": "stream",
          "name": "stderr",
          "text": [
            "<ipython-input-29-8d6e6a430c20>:33: UserWarning: FixedFormatter should only be used together with FixedLocator\n",
            "  ax.set_xticklabels([''] + all_categories, rotation=90)\n",
            "<ipython-input-29-8d6e6a430c20>:34: UserWarning: FixedFormatter should only be used together with FixedLocator\n",
            "  ax.set_yticklabels([''] + all_categories)\n"
          ]
        },
        {
          "output_type": "display_data",
          "data": {
            "text/plain": [
              "<Figure size 640x480 with 2 Axes>"
            ],
            "image/png": "[encoded data removed]"
          },
          "metadata": {}
        }
      ]
    },
    {
      "cell_type": "markdown",
      "source": [
        "# Running on User Input\n"
      ],
      "metadata": {
        "id": "u8D2YTT72TiY"
      }
    },
    {
      "cell_type": "code",
      "source": [
        "def predict(input_line, n_predictions=3):\n",
        "    print('\\n> %s' % input_line)\n",
        "    with torch.no_grad():\n",
        "        output = evaluate(wordToTensor(input_line))\n",
        "\n",
        "        # Get top N categories\n",
        "        topv, topi = output.topk(n_predictions, 1, True)\n",
        "        predictions = []\n",
        "\n",
        "        for i in range(n_predictions):\n",
        "            value = topv[0][i].item()\n",
        "            category_index = topi[0][i].item()\n",
        "            print('(%.2f) %s' % (value, all_categories[category_index]))\n",
        "            predictions.append([value, all_categories[category_index]])\n",
        "\n"
      ],
      "metadata": {
        "id": "68C2JX3b18r5"
      },
      "execution_count": 30,
      "outputs": []
    },
    {
      "cell_type": "code",
      "source": [
        "predict('Dovesky')\n",
        "predict('Jackson')\n",
        "predict('Satoshi')"
      ],
      "metadata": {
        "colab": {
          "base_uri": "https://localhost:8080/"
        },
        "id": "BoSRJB9o2YsJ",
        "outputId": "488e1beb-c998-41a1-e077-5a70cca374b9"
      },
      "execution_count": 31,
      "outputs": [
        {
          "output_type": "stream",
          "name": "stdout",
          "text": [
            "\n",
            "> Dovesky\n",
            "(-1.10) Russian\n",
            "(-1.18) English\n",
            "(-1.27) Czech\n",
            "\n",
            "> Jackson\n",
            "(-0.05) Scottish\n",
            "(-3.12) English\n",
            "(-7.04) Russian\n",
            "\n",
            "> Satoshi\n",
            "(-0.51) Greek\n",
            "(-1.24) Japanese\n",
            "(-2.89) Polish\n"
          ]
        }
      ]
    },
    {
      "cell_type": "code",
      "source": [],
      "metadata": {
        "id": "Xv1QtlcU3zYc"
      },
      "execution_count": null,
      "outputs": []
    },
    {
      "cell_type": "code",
      "source": [],
      "metadata": {
        "id": "9rDhQc7I3zZB"
      },
      "execution_count": null,
      "outputs": []
    },
    {
      "cell_type": "code",
      "source": [],
      "metadata": {
        "id": "JgDDDXYO3zao"
      },
      "execution_count": null,
      "outputs": []
    },
    {
      "cell_type": "code",
      "source": [],
      "metadata": {
        "id": "xjb10boW3zcj"
      },
      "execution_count": null,
      "outputs": []
    },
    {
      "cell_type": "code",
      "source": [
        "# Let's rewrite the necessary parts to include batch processing and batch normalization.\n",
        "updated_code = \"\"\"\n",
        "import torch\n",
        "import torch.nn as nn\n",
        "import torch.optim as optim\n",
        "from torch.nn.utils.rnn import pack_padded_sequence, pad_packed_sequence\n",
        "\n",
        "# Define the RNN class\n",
        "class RNN(nn.Module):\n",
        "    def __init__(self, input_size, hidden_size, output_size, num_layers=2, dropout=0.5):\n",
        "        super(RNN, self).__init__()\n",
        "        self.hidden_size = hidden_size\n",
        "        self.num_layers = num_layers\n",
        "\n",
        "        # RNN Layer with multiple layers and dropout\n",
        "        self.rnn = nn.RNN(input_size, hidden_size, num_layers=num_layers, batch_first=True, dropout=dropout)\n",
        "\n",
        "        # Batch normalization layer for stabilizing inputs\n",
        "        self.batch_norm = nn.BatchNorm1d(hidden_size)\n",
        "\n",
        "        # Fully connected layer for classification\n",
        "        self.fc = nn.Linear(hidden_size, output_size)\n",
        "\n",
        "    def forward(self, input_tensor, hidden, lengths):\n",
        "        # Pack padded sequence for variable-length inputs\n",
        "        packed_input = pack_padded_sequence(input_tensor, lengths, batch_first=True, enforce_sorted=False)\n",
        "\n",
        "        # Pass through RNN\n",
        "        packed_output, hidden = self.rnn(packed_input, hidden)\n",
        "\n",
        "        # Unpack the sequence\n",
        "        output, _ = pad_packed_sequence(packed_output, batch_first=True)\n",
        "\n",
        "        # Apply batch normalization on the output\n",
        "        output = self.batch_norm(output.contiguous().view(-1, output.size(2)))\n",
        "\n",
        "        # Use the last time step for classification\n",
        "        output = self.fc(output)\n",
        "\n",
        "        return output, hidden\n",
        "\n",
        "    def init_hidden(self, batch_size):\n",
        "        # Initialize hidden state with zeros\n",
        "        return torch.zeros(self.num_layers, batch_size, self.hidden_size).to(device)\n",
        "\n",
        "\n",
        "# Changes for batch processing:\n",
        "# - Ensure data loading and tensor operations are performed on the GPU.\n",
        "# - Use `collate_fn` to properly manage batch data, sequence lengths, and padding.\n",
        "# - Apply batch normalization on the output of the RNN before passing it to the fully connected layer.\n",
        "\"\"\"\n",
        "\n",
        "# Save the updated code into a new file for further use.\n",
        "updated_file_path = '/mnt/data/rnn_part1_updated.py'\n",
        "with open(updated_file_path, 'w') as updated_file:\n",
        "    updated_file.write(updated_code)\n",
        "\n",
        "updated_file_path  # Returning the path to the updated file.\n"
      ],
      "metadata": {
        "id": "IbtCRyBU3zes"
      },
      "execution_count": null,
      "outputs": []
    }
  ]
}